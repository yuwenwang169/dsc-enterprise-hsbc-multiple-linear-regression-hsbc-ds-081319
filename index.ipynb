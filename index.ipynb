{
 "cells": [
  {
   "cell_type": "markdown",
   "metadata": {},
   "source": [
    "# Multiple Linear Regression\n",
    "\n",
    "## Introduction\n",
    "In this lecture, you'll be introduced to the multiple linear regression model. We'll start with an introductory example using linear regression, which you've seen before, to act as a segue into multiple linear regression. We'll conclude this lecture by looking at a real data example.\n",
    "\n",
    "## Objectives\n",
    "You will be able to:\n",
    "* Understand and explain the use cases for linear and multiple regression analyses\n",
    "* Describe multiple regression with >1 predictors\n",
    "\n",
    "## From simple to multiple linear regression\n",
    "\n",
    "You have previously learned about linear regression models. In these models, what you try to do is fit a linear relationship between two variables. Let's refresh our memory with the example below. Here, we are trying to find a relationship between seniority and monthly income. It is definitely reasonable to assume that, on average, people with more seniority have a higher income than people who are newer to the job market and have less experience. A potential relationship could look like the plot below. The monthly income is shown in 1000 USD."
   ]
  },
  {
   "cell_type": "code",
   "execution_count": null,
   "metadata": {},
   "outputs": [],
   "source": [
    "#import pandas as pd\n",
    "import numpy as np\n",
    "import matplotlib.pyplot as plt\n",
    "\n",
    "np.random.seed(1234)\n",
    "sen = np.random.uniform(18, 65, 100)\n",
    "income = np.random.normal((sen/10), 0.5)\n",
    "sen = sen.reshape(-1,1)\n",
    "\n",
    "#fig = plt.figure(figsize=(7,5))\n",
    "fig.suptitle('seniority vs. income', fontsize=16)\n",
    "plt.scatter(sen, income)\n",
    "plt.plot(sen, sen/10, c = \"black\")\n",
    "plt.xlabel(\"seniority\", fontsize=14)\n",
    "plt.ylabel(\"monthly income\", fontsize=14)\n",
    "plt.show();"
   ]
  },
  {
   "cell_type": "code",
   "execution_count": 8,
   "metadata": {},
   "outputs": [
    {
     "data": {
      "text/plain": [
       "(100, 1)"
      ]
     },
     "execution_count": 8,
     "metadata": {},
     "output_type": "execute_result"
    }
   ],
   "source": [
    "sen.shape\n"
   ]
  },
  {
   "cell_type": "code",
   "execution_count": 10,
   "metadata": {},
   "outputs": [],
   "source": [
    "sen = np.random.uniform(18, 65, 100)"
   ]
  },
  {
   "cell_type": "code",
   "execution_count": 12,
   "metadata": {},
   "outputs": [],
   "source": [
    "sen = sen.reshape(-1,1)"
   ]
  },
  {
   "cell_type": "code",
   "execution_count": 13,
   "metadata": {
    "scrolled": true
   },
   "outputs": [
    {
     "data": {
      "text/plain": [
       "array([[34.81786709],\n",
       "       [28.00253707],\n",
       "       [28.49600349],\n",
       "       [37.71949821],\n",
       "       [21.42678039],\n",
       "       [48.5894363 ],\n",
       "       [53.517249  ],\n",
       "       [61.80875764],\n",
       "       [35.6909955 ],\n",
       "       [31.95558232],\n",
       "       [35.48138269],\n",
       "       [56.90186986],\n",
       "       [60.35355816],\n",
       "       [38.08327789],\n",
       "       [18.10290325],\n",
       "       [19.97236649],\n",
       "       [24.66400701],\n",
       "       [46.1171477 ],\n",
       "       [23.00364453],\n",
       "       [31.96647235],\n",
       "       [20.74442353],\n",
       "       [47.20226843],\n",
       "       [19.06598238],\n",
       "       [58.18757025],\n",
       "       [32.39784853],\n",
       "       [53.6628219 ],\n",
       "       [44.47393018],\n",
       "       [19.79371656],\n",
       "       [44.57928603],\n",
       "       [48.96705397],\n",
       "       [26.61351842],\n",
       "       [55.47833148],\n",
       "       [46.78126919],\n",
       "       [44.11570907],\n",
       "       [47.5861026 ],\n",
       "       [50.25046354],\n",
       "       [29.29797926],\n",
       "       [55.03260604],\n",
       "       [58.25444048],\n",
       "       [52.20641273],\n",
       "       [50.54022174],\n",
       "       [40.20049414],\n",
       "       [58.27302827],\n",
       "       [49.24293669],\n",
       "       [33.66866929],\n",
       "       [42.35283847],\n",
       "       [36.55036342],\n",
       "       [19.45933112],\n",
       "       [45.11147263],\n",
       "       [57.96183203],\n",
       "       [62.71997666],\n",
       "       [50.10000346],\n",
       "       [21.57963977],\n",
       "       [37.27366331],\n",
       "       [19.96936574],\n",
       "       [26.18678108],\n",
       "       [44.57389426],\n",
       "       [26.12588502],\n",
       "       [44.63069246],\n",
       "       [42.15819989],\n",
       "       [58.83693171],\n",
       "       [51.85632065],\n",
       "       [60.46879331],\n",
       "       [31.04790492],\n",
       "       [30.06327531],\n",
       "       [50.88605335],\n",
       "       [60.37373812],\n",
       "       [64.23353928],\n",
       "       [48.12290218],\n",
       "       [33.51034726],\n",
       "       [46.51373516],\n",
       "       [56.64151006],\n",
       "       [47.51435808],\n",
       "       [23.5423837 ],\n",
       "       [31.43625065],\n",
       "       [64.37711912],\n",
       "       [38.29463988],\n",
       "       [44.98901745],\n",
       "       [42.7803776 ],\n",
       "       [27.28969332],\n",
       "       [25.78829631],\n",
       "       [41.54655152],\n",
       "       [64.53959082],\n",
       "       [36.51761513],\n",
       "       [51.55862347],\n",
       "       [26.26750066],\n",
       "       [21.3227204 ],\n",
       "       [25.40828506],\n",
       "       [25.59322663],\n",
       "       [31.33094287],\n",
       "       [43.2251832 ],\n",
       "       [54.3422196 ],\n",
       "       [59.37614832],\n",
       "       [47.95739801],\n",
       "       [58.07230529],\n",
       "       [46.10390246],\n",
       "       [50.61079303],\n",
       "       [43.24730364],\n",
       "       [59.79381392],\n",
       "       [20.45652203]])"
      ]
     },
     "execution_count": 13,
     "metadata": {},
     "output_type": "execute_result"
    }
   ],
   "source": [
    "sen"
   ]
  },
  {
   "cell_type": "code",
   "execution_count": null,
   "metadata": {},
   "outputs": [],
   "source": []
  },
  {
   "cell_type": "markdown",
   "metadata": {},
   "source": [
    "Here, seniority is the independent variable, and monthly income is the target variable.\n",
    "\n",
    "Of course, you know that seniority is not the only factor that drives income. Other factors that can play a role are, among others, the number of hours worked, years of education, and the city of employment. Now, you could create simple linear regression models for each of these factors and monthly outcome as a target, but more interestingly, you can also create a model where all these potential predictors serve as independent variables at once. How does this work? Let's start with an example with two predictors. Let's start by refreshing the expression for our linear model. As a general expression for our linear model, we had that $\\hat Y = bX + a$. Applied to this example, this would boil down to:\n",
    "\n",
    "$\\text{estimated monthly income} = slope * seniority + intercept $\n",
    "\n",
    "\n",
    "adding in years of education as a predictor, you can extend this model to:\n",
    "\n",
    "$\\text{estimated monthly income} = slope\\_s * seniority + slope\\_ed * years\\_of\\_education  + intercept $\n",
    "\n",
    "What exactly does that look like?\n",
    "\n",
    "<img src=\"images/multiple_reg.png\" width=\"500\">\n",
    "\n",
    "As we have two predictors here, the simple line is replaced by a **plane**. Our $slope\\_s$ represents the slope in the direction of the axis associated with seniority, our $slope\\_ed$ represents the slope in the direction of the axis associated with years of education. \n",
    "\n",
    "And it obviously doesn't stop here! We can add as many predictors as we like. What is important to note, however, is that for models with more than 2 predictors representing a multiple linear model becomes very difficult and even impossible! Still, it is done all the time, as linear models of all sorts are extensively used in many fields!\n",
    "\n",
    "When thinking of lines and slopes statistically, slope parameters associated with a particular predictor $x_i$ are often denoted by $\\beta_i$. Extending this example mathematically, you would write a multiple linear regression model as follows:\n",
    "\n",
    "$$ \\hat y = \\hat\\beta_0 + \\hat\\beta_1 x_1 + \\hat\\beta_2 x_2 +\\ldots + \\hat\\beta_n x_n $$ \n",
    "\n",
    "where $n$ is the number of predictors, $\\beta_0$ is the intercept, and $\\hat y$ is the so-called \"fitted line\" or the predicted value associated with the dependent variable.\n",
    "\n",
    "\n",
    "## Summary\n",
    "\n",
    "Congratulations! You have gained an initial understanding of a multiple linear regression model. To illustrate the usage of the multiple linear regression model, we'll be using the auto-mpg dataset which contains information on the technical specifications of a variety of cars. In the labs, you'll be practicing your newly gained knowledge using the Boston Housing data again."
   ]
  }
 ],
 "metadata": {
  "kernelspec": {
   "display_name": "Python 3",
   "language": "python",
   "name": "python3"
  },
  "language_info": {
   "codemirror_mode": {
    "name": "ipython",
    "version": 3
   },
   "file_extension": ".py",
   "mimetype": "text/x-python",
   "name": "python",
   "nbconvert_exporter": "python",
   "pygments_lexer": "ipython3",
   "version": "3.6.6"
  }
 },
 "nbformat": 4,
 "nbformat_minor": 2
}
